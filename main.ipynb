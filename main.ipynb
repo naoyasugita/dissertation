{
 "cells": [
  {
   "cell_type": "markdown",
   "metadata": {},
   "source": [
    "## gpuの使用率の調整"
   ]
  },
  {
   "cell_type": "code",
   "execution_count": null,
   "metadata": {},
   "outputs": [],
   "source": [
    "# import tensorflow as tf\n",
    "\n",
    "# config = tf.ConfigProto()\n",
    "# config.gpu_options.allow_growth = True\n",
    "# session = tf.Session(config=config)"
   ]
  },
  {
   "cell_type": "code",
   "execution_count": null,
   "metadata": {},
   "outputs": [],
   "source": [
    "%matplotlib inline\n",
    "\n",
    "import os\n",
    "import pickle\n",
    "from datetime import datetime\n",
    "\n",
    "import cv2\n",
    "from PIL import Image, ImageOps\n",
    "import keras\n",
    "import numpy as np\n",
    "import pandas as pd\n",
    "import matplotlib.pyplot as plt\n",
    "from keras.layers import Conv2D, Input, InputLayer, Activation, Add, UpSampling2D\n",
    "from keras.callbacks import EarlyStopping, ModelCheckpoint, TensorBoard\n",
    "from keras.layers.normalization import BatchNormalization\n",
    "from keras.models import Model, load_model\n",
    "from keras.utils import plot_model\n",
    "from keras.preprocessing.image import ImageDataGenerator\n",
    "from IPython.display import SVG\n",
    "from keras.utils.vis_utils import model_to_dot\n",
    "from keras.optimizers import Adadelta, Adam\n",
    "from tqdm import tqdm\n",
    "from sklearn.metrics import confusion_matrix\n",
    "\n",
    "from src.preprocess import load_data\n",
    "from src.merge import make_originalsize_img\n",
    "from src.post_process import plot_confusion_matrix, do_plot, get_diff_data, show_diff, plot_diff_bar, plot_diff_image, make_diff_image, evaluation \n",
    "from src.models import FCN\n",
    "from src.models import LKM"
   ]
  },
  {
   "cell_type": "code",
   "execution_count": null,
   "metadata": {},
   "outputs": [],
   "source": [
    "CONTENTS = \"Roads\" #\"Buildings\" or \"Roads\"\n",
    "TRAIN_NUM = 27700\n",
    "VALID_NUM = 350\n",
    "TEST_NUM = 1225"
   ]
  },
  {
   "cell_type": "markdown",
   "metadata": {},
   "source": [
    "# データの取得"
   ]
  },
  {
   "cell_type": "code",
   "execution_count": null,
   "metadata": {
    "scrolled": true
   },
   "outputs": [],
   "source": [
    "x_train, y_train = load_data(CONTENTS, \"train\", TRAIN_NUM)\n",
    "x_valid, y_valid = load_data(CONTENTS, \"valid\", VALID_NUM)\n",
    "x_test, y_test = load_data(CONTENTS, \"test\", TEST_NUM)"
   ]
  },
  {
   "cell_type": "markdown",
   "metadata": {},
   "source": [
    "# 前処理"
   ]
  },
  {
   "cell_type": "code",
   "execution_count": null,
   "metadata": {},
   "outputs": [],
   "source": [
    "def _normalization(data, _type):\n",
    "    if _type == \"x\":\n",
    "        result = np.array([], dtype = np.float32)\n",
    "        result = data.astype(\"float32\") / 255\n",
    "    elif _type == \"y\":\n",
    "        result = np.array([], dtype = np.uint8)\n",
    "        result = (data / 255).astype(\"uint8\")\n",
    "    else:\n",
    "        print('please input arg( _type) \"x\" or \"y\"')\n",
    "        return 0\n",
    "    \n",
    "    return result"
   ]
  },
  {
   "cell_type": "code",
   "execution_count": null,
   "metadata": {},
   "outputs": [],
   "source": [
    "x_train = _normalization(x_train, \"x\")\n",
    "y_train = _normalization(y_train, \"y\")\n",
    "x_valid = _normalization(x_valid, \"x\")\n",
    "y_valid = _normalization(y_valid, \"y\")\n",
    "x_test = _normalization(x_test, \"x\")\n",
    "y_test = _normalization(y_test, \"y\")"
   ]
  },
  {
   "cell_type": "markdown",
   "metadata": {},
   "source": [
    "# 入出力画像の変換\n",
    "- 訓練データ(x, H, W, C) -> (x, C, H, W)にする."
   ]
  },
  {
   "cell_type": "code",
   "execution_count": null,
   "metadata": {},
   "outputs": [],
   "source": [
    "def _reshape(data):\n",
    "    if data.shape != (data.shape[0], 3, 256, 256):\n",
    "        return np.transpose(data, (0, 3, 2, 1))"
   ]
  },
  {
   "cell_type": "code",
   "execution_count": null,
   "metadata": {},
   "outputs": [],
   "source": [
    "x_train = _reshape(x_train)\n",
    "y_train = _reshape(y_train)\n",
    "x_valid = _reshape(x_valid)\n",
    "y_valid = _reshape(y_valid)\n",
    "x_test = _reshape(x_test)\n",
    "y_test = _reshape(y_test)"
   ]
  },
  {
   "cell_type": "markdown",
   "metadata": {},
   "source": [
    "# モデルの構築"
   ]
  },
  {
   "cell_type": "code",
   "execution_count": null,
   "metadata": {},
   "outputs": [],
   "source": [
    "# 学習済みモデルの読込\n",
    "# model = load_model(\"./tensorlog/01172024/learned_model.h5\")"
   ]
  },
  {
   "cell_type": "code",
   "execution_count": null,
   "metadata": {},
   "outputs": [],
   "source": [
    "fcn = FCN()\n",
    "model = fcn.build()\n",
    "# lkm = LKM()\n",
    "# model = lkm.build()"
   ]
  },
  {
   "cell_type": "code",
   "execution_count": null,
   "metadata": {
    "scrolled": true
   },
   "outputs": [],
   "source": [
    "SVG(model_to_dot(model).create(prog = 'dot', format = 'svg'))"
   ]
  },
  {
   "cell_type": "code",
   "execution_count": null,
   "metadata": {
    "scrolled": true
   },
   "outputs": [],
   "source": [
    "model.summary()"
   ]
  },
  {
   "cell_type": "markdown",
   "metadata": {},
   "source": [
    "# コンパイル"
   ]
  },
  {
   "cell_type": "code",
   "execution_count": null,
   "metadata": {},
   "outputs": [],
   "source": [
    "model.compile(\n",
    "    loss='mean_squared_error',\n",
    "    optimizer = \"Adam\",\n",
    "     metrics=['accuracy']\n",
    ")"
   ]
  },
  {
   "cell_type": "markdown",
   "metadata": {},
   "source": [
    "# 保存用ディレクトリ作成"
   ]
  },
  {
   "cell_type": "code",
   "execution_count": null,
   "metadata": {},
   "outputs": [],
   "source": [
    "now = datetime.now().strftime(\"%m%d%H%M\")\n",
    "PATH = \"./dataset/eva_imgs/\" + now + \"/\"\n",
    "os.makedirs(PATH + \"images/\")\n",
    "os.makedirs(PATH + \"large/\")\n",
    "learned_model_path = \"./tensorlog/\" + now + \"/\"\n",
    "os.makedirs(learned_model_path, exist_ok=True)\n",
    "test_path = './dataset/data/Roads/test/y_test/'\n",
    "test_path = os.listdir(test_path)"
   ]
  },
  {
   "cell_type": "markdown",
   "metadata": {},
   "source": [
    "# モデルの学習"
   ]
  },
  {
   "cell_type": "markdown",
   "metadata": {},
   "source": [
    "## using fit"
   ]
  },
  {
   "cell_type": "code",
   "execution_count": null,
   "metadata": {
    "scrolled": true
   },
   "outputs": [],
   "source": [
    "batch_size = 8\n",
    "epochs = 300\n",
    "fpath = learned_model_path + '{epoch:04d}-{loss:.4f}-{val_loss:.4f}.hdf5'\n",
    "es_cb = EarlyStopping(patience = 30, verbose = 0)\n",
    "mc_cb = ModelCheckpoint(filepath = fpath, monitor = 'val_loss', verbose = 0, save_best_only = True, mode = 'auto',  period = 5)\n",
    "tb_cb = TensorBoard(log_dir = learned_model_path, histogram_freq=0)\n",
    "callbacks = []\n",
    "callbacks.append(es_cb)\n",
    "callbacks.append(mc_cb)\n",
    "callbacks.append(tb_cb)\n",
    "\n",
    "# datagen = ImageDataGenerator(\n",
    "#     rotation_range=20,\n",
    "#     vertical_flip=True,\n",
    "#     horizontal_flip=True,\n",
    "    \n",
    "# data_format=\"channels_first\")\n",
    "\n",
    "# datagen.fit(x_train, rounds=3, seed=17)\n",
    "# datagen.fit(y_train, rounds=3, seed=17)\n",
    "\n",
    "# result = model.fit_generator(datagen.flow(x_train, y_train, batch_size=batch_size, shuffle=False, seed=17),\n",
    "#                     steps_per_epoch=len(x_train) / batch_size, epochs=epochs, validation_data = (x_valid, y_valid), callbacks = callbacks)\n",
    "\n",
    "result = model.fit(\n",
    "    x = x_train,\n",
    "    y = y_train,\n",
    "    batch_size = batch_size,\n",
    "#     initial_epoch = 90,\n",
    "    epochs = epochs,\n",
    "    validation_data = (x_valid, y_valid),\n",
    "    verbose = 2,\n",
    "    callbacks = callbacks\n",
    ")"
   ]
  },
  {
   "cell_type": "markdown",
   "metadata": {},
   "source": [
    "# モデルの保存"
   ]
  },
  {
   "cell_type": "code",
   "execution_count": null,
   "metadata": {},
   "outputs": [],
   "source": [
    "model.save(learned_model_path + \"learned_model.h5\");"
   ]
  },
  {
   "cell_type": "markdown",
   "metadata": {},
   "source": [
    "# 学習結果"
   ]
  },
  {
   "cell_type": "code",
   "execution_count": null,
   "metadata": {},
   "outputs": [],
   "source": [
    "score = model.evaluate(x_test, y_test, verbose = 0)\n",
    "print('Test loss:', score[0])\n",
    "print('Test accuracy:', score[1])"
   ]
  },
  {
   "cell_type": "markdown",
   "metadata": {},
   "source": [
    "# モデルの可視化"
   ]
  },
  {
   "cell_type": "code",
   "execution_count": null,
   "metadata": {},
   "outputs": [],
   "source": [
    "SVG(model_to_dot(model).create(prog = 'dot', format = 'svg'))\n",
    "plot_model(model, to_file=learned_model_path + \"model.png\")"
   ]
  },
  {
   "cell_type": "markdown",
   "metadata": {},
   "source": [
    "# 予測"
   ]
  },
  {
   "cell_type": "code",
   "execution_count": null,
   "metadata": {},
   "outputs": [],
   "source": [
    "pred = model.predict(x_test, batch_size = batch_size, verbose = 1)"
   ]
  },
  {
   "cell_type": "code",
   "execution_count": null,
   "metadata": {},
   "outputs": [],
   "source": [
    "pred = np.transpose(pred, (0, 2, 3, 1))"
   ]
  },
  {
   "cell_type": "markdown",
   "metadata": {},
   "source": [
    "## 道路と背景を分離"
   ]
  },
  {
   "cell_type": "code",
   "execution_count": null,
   "metadata": {},
   "outputs": [],
   "source": [
    "def binarization(img, NUM, size = 256):\n",
    "    for i in range(size):\n",
    "        for j in range(size):\n",
    "            if np.sum(img[i][j] * 255) > NUM:\n",
    "                img[i][j][0] = 255\n",
    "                img[i][j][1] = 255\n",
    "                img[i][j][2] = 255\n",
    "            else:\n",
    "                img[i][j][0] = 0\n",
    "                img[i][j][1] = 0\n",
    "                img[i][j][2] = 0\n",
    "    return img"
   ]
  },
  {
   "cell_type": "markdown",
   "metadata": {},
   "source": [
    "- pre_plot() \n",
    "    - 予測済みのデータを入力とする\n",
    "    - input shape (1225, 256, 256, 3)"
   ]
  },
  {
   "cell_type": "code",
   "execution_count": null,
   "metadata": {},
   "outputs": [],
   "source": [
    "NUM = 40\n",
    "def pre_plot(imgs, path):\n",
    "    for img, name in tqdm(zip(imgs, test_path)):\n",
    "        img = binarization(img, NUM)\n",
    "        img = Image.fromarray(np.uint8(img))\n",
    "        # 出力画像の向きがおかしいためここで調整する\n",
    "        img = img.transpose(Image.ROTATE_270)\n",
    "        img = ImageOps.mirror(img)\n",
    "        img.save(path + '/' + name)"
   ]
  },
  {
   "cell_type": "code",
   "execution_count": null,
   "metadata": {},
   "outputs": [],
   "source": [
    "pre_plot(pred, PATH + \"images\")"
   ]
  },
  {
   "cell_type": "markdown",
   "metadata": {},
   "source": [
    "# 小分けの画像を一枚に連結させる"
   ]
  },
  {
   "cell_type": "code",
   "execution_count": null,
   "metadata": {},
   "outputs": [],
   "source": [
    "pred"
   ]
  },
  {
   "cell_type": "code",
   "execution_count": null,
   "metadata": {},
   "outputs": [],
   "source": [
    "make_originalsize_img(PATH + \"images/\")"
   ]
  },
  {
   "cell_type": "markdown",
   "metadata": {},
   "source": [
    "# 出力後の画像の分析"
   ]
  },
  {
   "cell_type": "markdown",
   "metadata": {},
   "source": [
    "## データの整理"
   ]
  },
  {
   "cell_type": "code",
   "execution_count": null,
   "metadata": {},
   "outputs": [],
   "source": [
    "bases, preds, filenames = get_diff_data(now)\n",
    "df = show_diff(now)"
   ]
  },
  {
   "cell_type": "markdown",
   "metadata": {},
   "source": [
    "## 混同行列の出力"
   ]
  },
  {
   "cell_type": "code",
   "execution_count": null,
   "metadata": {},
   "outputs": [],
   "source": [
    "val = np.transpose(y_test, (0, 2, 3, 1))\n",
    "val = (val * 255).astype(np.float32)\n",
    "val = val.flatten()\n",
    "pred = pred.flatten()"
   ]
  },
  {
   "cell_type": "code",
   "execution_count": null,
   "metadata": {},
   "outputs": [],
   "source": [
    "do_plot(val, pred, learned_model_path)"
   ]
  },
  {
   "cell_type": "markdown",
   "metadata": {},
   "source": [
    "# PN画像の生成"
   ]
  },
  {
   "cell_type": "code",
   "execution_count": null,
   "metadata": {},
   "outputs": [],
   "source": [
    "validation_data = plot_diff_image(now + '/')"
   ]
  },
  {
   "cell_type": "markdown",
   "metadata": {},
   "source": [
    "## 評価結果の作成(CSV)\n",
    "- 以下,例  \n",
    "\n",
    "| image_name | TruePositive | FalsePositive | TrueNegative | FalseNegative | Completeness | Correctness | Quality |\n",
    "|:------- :|:---------:|:------- :|:---------:|:------- :|:---------:|:------- :|:---------:|\n",
    "|10378780|19454|1541218|51789|25939|0.4286|0.2731|0.2002|\n",
    "|10828720|67864|998927|540068|31541|0.6827|0.1116|0.1061|"
   ]
  },
  {
   "cell_type": "code",
   "execution_count": null,
   "metadata": {},
   "outputs": [],
   "source": [
    "evaluation(validation_data, now)"
   ]
  }
 ],
 "metadata": {
  "kernelspec": {
   "display_name": "Python 3",
   "language": "python",
   "name": "python3"
  },
  "language_info": {
   "codemirror_mode": {
    "name": "ipython",
    "version": 3
   },
   "file_extension": ".py",
   "mimetype": "text/x-python",
   "name": "python",
   "nbconvert_exporter": "python",
   "pygments_lexer": "ipython3",
   "version": "3.6.5"
  }
 },
 "nbformat": 4,
 "nbformat_minor": 2
}
